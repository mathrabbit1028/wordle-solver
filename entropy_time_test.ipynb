{
 "cells": [
  {
   "cell_type": "code",
   "execution_count": 42,
   "id": "05eedb14",
   "metadata": {},
   "outputs": [],
   "source": [
    "def query_res(word, ans):\n",
    "    def get_t(word: str, ans: str, i: int) -> int:\n",
    "        cnt: int = 0\n",
    "        for j in range(5):\n",
    "            if ans[j] == word[i] and ans[j] != word[j]:\n",
    "                cnt += 1\n",
    "        return cnt\n",
    "    def get_s(word: str, ans: str, i: int) -> int:\n",
    "        cnt: int = 0\n",
    "        for j in range(i+1):\n",
    "            if word[j] == word[i] and ans[j] != word[j]:\n",
    "                cnt += 1\n",
    "        return cnt\n",
    "    res = [2, 2, 2, 2, 2]\n",
    "    for i, c in enumerate(word):\n",
    "        if ans[i] != c:\n",
    "            t = get_t(word, ans, i)\n",
    "            s = get_s(word, ans, i)\n",
    "            res[i] = int(t >= s)\n",
    "    return res"
   ]
  },
  {
   "cell_type": "code",
   "execution_count": 49,
   "id": "0dbfb0d7",
   "metadata": {},
   "outputs": [
    {
     "name": "stderr",
     "output_type": "stream",
     "text": [
      "100%|██████████| 12972/12972 [01:40<00:00, 129.63it/s]\n"
     ]
    },
    {
     "name": "stdout",
     "output_type": "stream",
     "text": [
      "(12972, 12972)\n"
     ]
    }
   ],
   "source": [
    "import numpy as np\n",
    "import tqdm\n",
    "\n",
    "save = []\n",
    "def query_res_all(ans: np.ndarray, words: np.ndarray) -> np.ndarray:\n",
    "    N: int = words.shape[0]\n",
    "\n",
    "    not_greens = (ans != words) # (N, 5)\n",
    "\n",
    "    matches = (words[:, :, None] == ans[None, None, :]) # (N, 5, 5)\n",
    "    '''\n",
    "    matches[x][i][j]\n",
    "    x번째 단어의 i번째 문자와 답의 j번째 문자가 같은지 여부\n",
    "    '''\n",
    "    t = (matches & not_greens[:, None, :]).sum(axis=2) # (N, 5)\n",
    "    '''\n",
    "    def get_t(word: str, ans: str, i: int) -> int:\n",
    "        cnt: int = 0\n",
    "        for j in range(5):\n",
    "            if ans[j] == word[i] and ans[j] != word[j]:\n",
    "                cnt += 1\n",
    "        return cnt\n",
    "    '''\n",
    "\n",
    "    matches = (words[:, :, None] == words[:, None, :]) # (N, 5, 5)\n",
    "    '''\n",
    "    matches[x][i][j]\n",
    "    x번째 단어의 i번째 문자와 x번째 단어의 j번째 문자가 같은지 여부\n",
    "    '''\n",
    "    s = np.cumsum(matches & not_greens[:, None, :], axis=2)[np.arange(N)[:, None], np.arange(5), np.arange(5)] # (N, 5)\n",
    "    '''\n",
    "    def get_s(word: str, ans: str, i: int) -> int:\n",
    "        cnt: int = 0\n",
    "        for j in range(i+1):\n",
    "            if word[j] == word[i] and ans[j] != word[j]:\n",
    "                cnt += 1\n",
    "        return cnt\n",
    "    '''\n",
    "    \n",
    "    res = np.full_like(words, fill_value=2, dtype=int) # (N, 5)\n",
    "    res[not_greens] = (t >= s)[not_greens].astype(int)\n",
    "\n",
    "    # test\n",
    "    '''\n",
    "    for i in range(words.shape[0]):\n",
    "        if query_res(words[i], ans) != list(res[i]):\n",
    "            print(\"ans:\", ans, \"query:\", words[i], query_res(words[i], ans), list(res[i]))\n",
    "            break\n",
    "    '''\n",
    "\n",
    "    res = (res * np.array([1, 3, 9, 27, 81])).sum(axis=1) # (N,)\n",
    "    save.append(res)\n",
    "\n",
    "    counts = np.zeros(273)\n",
    "    counts[res] += 1\n",
    "    return counts\n",
    "    \n",
    "words = np.array(list(map(list, open('code\\words.txt').read().strip().split('\\n')))) # (N, 5)\n",
    "\n",
    "def calc_entropy(word):\n",
    "    counts = query_res_all(word, words)\n",
    "    probs = counts/counts.sum()\n",
    "    probs_ = probs.copy()\n",
    "    probs_[probs == 0] = 1\n",
    "    return -np.sum(probs * np.log2(probs_))\n",
    "\n",
    "# ent = {word:calc_entropy(word) for word in words}\n",
    "for word in tqdm.tqdm(words):\n",
    "    calc_entropy(word)\n",
    "\n",
    "print(np.array(save).shape)\n",
    "np.save('all.npy', np.array(save))"
   ]
  },
  {
   "cell_type": "markdown",
   "id": "74e55955",
   "metadata": {},
   "source": [
    "`all.npy`에 저장하고 불러와서 엔트로피를 구하자"
   ]
  },
  {
   "cell_type": "code",
   "execution_count": 53,
   "id": "8d0026b7",
   "metadata": {},
   "outputs": [
    {
     "name": "stdout",
     "output_type": "stream",
     "text": [
      "1.0869624614715576\n",
      "1.7829666137695312\n",
      "7.1992292404174805\n"
     ]
    }
   ],
   "source": [
    "import numpy as np\n",
    "from time import time\n",
    "\n",
    "start_time = time()\n",
    "\n",
    "words = open('code\\words.txt').read().strip().split('\\n') # (N, 5)\n",
    "res = np.load('all.npy')\n",
    "print(time() - start_time)\n",
    "\n",
    "candidates = words\n",
    "word_to_index = {word: i for i, word in enumerate(words)}\n",
    "idx = np.array([word_to_index[w] for w in candidates])  # (C,)\n",
    "responses = res[np.ix_(idx, idx)]  # shape: (C, C)\n",
    "print(time() - start_time)\n",
    "\n",
    "entropy = np.zeros(len(candidates))\n",
    "for j in range(len(candidates)):\n",
    "    r = responses[:, j]\n",
    "    _, counts = np.unique(r, return_counts=True)\n",
    "    probs = counts / counts.sum()\n",
    "    entropy[j] = -np.sum(probs * np.log2(probs))\n",
    "\n",
    "print(time() - start_time)"
   ]
  },
  {
   "cell_type": "markdown",
   "id": "dd4e971b",
   "metadata": {},
   "source": [
    "# use 4-dim array\n",
    "메모리 이슈로 망함"
   ]
  },
  {
   "cell_type": "code",
   "execution_count": 41,
   "id": "44286812",
   "metadata": {},
   "outputs": [
    {
     "name": "stdout",
     "output_type": "stream",
     "text": [
      "2.009331226348877\n",
      "2.2751193046569824\n",
      "4.165659189224243\n",
      "8.021244764328003\n",
      "8.960752010345459\n"
     ]
    },
    {
     "data": {
      "text/plain": [
       "'\\nfor i in range(N):\\n    for j in range(N):\\n        if query_res(words[j], words[i]) != list(res[j][i]):\\n            print(\"ans:\", words[i], \"query:\", words[j], query_res(words[j], words[i]), list(res[j][i]))\\n            break\\n'"
      ]
     },
     "execution_count": 41,
     "metadata": {},
     "output_type": "execute_result"
    }
   ],
   "source": [
    "import numpy as np\n",
    "from time import time\n",
    "\n",
    "words = np.array(list(map(list, open('code\\words.txt').read().strip().split('\\n')[:4000]))) # (N, 5)\n",
    "N = words.shape[0]\n",
    "\n",
    "start_time = time()\n",
    "\n",
    "def calc_entropy(word):\n",
    "    counts = query_res_all(word, words)\n",
    "    probs = counts/counts.sum()\n",
    "    probs_ = probs.copy()\n",
    "    probs_[probs == 0] = 1\n",
    "    return -np.sum(probs * np.log2(probs_))\n",
    "\n",
    "'''\n",
    "matches[x][y][i][j]\n",
    "x번째 단어의 i번째 문자와 y번째 단어의 j번째 문자가 같은지 여부\n",
    "'''\n",
    "matches = (words[:, None, :, None] == words[None, :, None, :]) # (N, N, 5, 5) \n",
    "print(time() - start_time)\n",
    "\n",
    "not_greens = ~matches[:, :, np.arange(5), np.arange(5)] # (N, N, 5)\n",
    "print(time() - start_time)\n",
    "\n",
    "t = (matches & not_greens[:, :, None, :]).sum(axis=3) # (N, N, 5)\n",
    "print(time() - start_time)\n",
    "\n",
    "s = np.cumsum((matches[np.arange(N), np.arange(N), :, :][:, None, :, :] & not_greens[:, :, None, :]), axis=3)[:, :, np.arange(5), np.arange(5)] # (N, N, 5)\n",
    "print(time() - start_time)\n",
    "\n",
    "res = np.full_like(not_greens, fill_value=2, dtype=int) # (N, N, 5)\n",
    "res[not_greens] = (t >= s)[not_greens].astype(int)\n",
    "print(time() - start_time)\n",
    "\n",
    "\n",
    "# res = (res * np.array([1, 3, 9, 27, 81])).sum(axis=1) # (N,)\n",
    "\n",
    "# counts = np.zeros(273)\n",
    "# counts[res] += 1\n",
    "\n",
    "# check\n",
    "'''\n",
    "for i in range(N):\n",
    "    for j in range(N):\n",
    "        if query_res(words[j], words[i]) != list(res[j][i]):\n",
    "            print(\"ans:\", words[i], \"query:\", words[j], query_res(words[j], words[i]), list(res[j][i]))\n",
    "            break\n",
    "'''\n",
    "\n"
   ]
  },
  {
   "cell_type": "code",
   "execution_count": null,
   "id": "354aa04f",
   "metadata": {},
   "outputs": [],
   "source": [
    "# simple version\n",
    "import numpy as np\n",
    "\n",
    "words = np.array(list(map(list, open('code\\words.txt').read().strip().split('\\n')[:4000]))) # (N, 5)\n",
    "N = words.shape[0]\n",
    "\n"
   ]
  }
 ],
 "metadata": {
  "kernelspec": {
   "display_name": "Python 3",
   "language": "python",
   "name": "python3"
  },
  "language_info": {
   "codemirror_mode": {
    "name": "ipython",
    "version": 3
   },
   "file_extension": ".py",
   "mimetype": "text/x-python",
   "name": "python",
   "nbconvert_exporter": "python",
   "pygments_lexer": "ipython3",
   "version": "3.10.7"
  }
 },
 "nbformat": 4,
 "nbformat_minor": 5
}
