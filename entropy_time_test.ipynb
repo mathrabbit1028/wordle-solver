{
 "cells": [
  {
   "cell_type": "code",
   "execution_count": 4,
   "id": "05eedb14",
   "metadata": {},
   "outputs": [],
   "source": [
    "def query_res(word, ans):\n",
    "    def get_t(word: str, ans: str, i: int) -> int:\n",
    "        cnt: int = 0\n",
    "        for j in range(5):\n",
    "            if ans[j] == word[i] and ans[j] != word[j]:\n",
    "                cnt += 1\n",
    "        return cnt\n",
    "    def get_s(word: str, ans: str, i: int) -> int:\n",
    "        cnt: int = 0\n",
    "        for j in range(i+1):\n",
    "            if word[j] == word[i] and ans[j] != word[j]:\n",
    "                cnt += 1\n",
    "        return cnt\n",
    "    res = [2, 2, 2, 2, 2]\n",
    "    for i, c in enumerate(word):\n",
    "        if ans[i] != c:\n",
    "            t = get_t(word, ans, i)\n",
    "            s = get_s(word, ans, i)\n",
    "            res[i] = int(t >= s)\n",
    "    return res"
   ]
  },
  {
   "cell_type": "code",
   "execution_count": 5,
   "id": "0dbfb0d7",
   "metadata": {},
   "outputs": [
    {
     "name": "stderr",
     "output_type": "stream",
     "text": [
      "  7%|▋         | 859/12972 [00:05<01:23, 144.78it/s]\n"
     ]
    },
    {
     "ename": "KeyboardInterrupt",
     "evalue": "",
     "output_type": "error",
     "traceback": [
      "\u001b[1;31m---------------------------------------------------------------------------\u001b[0m",
      "\u001b[1;31mKeyboardInterrupt\u001b[0m                         Traceback (most recent call last)",
      "Cell \u001b[1;32mIn[5], line 69\u001b[0m\n\u001b[0;32m     67\u001b[0m \u001b[38;5;66;03m# ent = {word:calc_entropy(word) for word in words}\u001b[39;00m\n\u001b[0;32m     68\u001b[0m \u001b[38;5;28;01mfor\u001b[39;00m word \u001b[38;5;129;01min\u001b[39;00m tqdm\u001b[38;5;241m.\u001b[39mtqdm(words):\n\u001b[1;32m---> 69\u001b[0m     \u001b[43mcalc_entropy\u001b[49m\u001b[43m(\u001b[49m\u001b[43mword\u001b[49m\u001b[43m)\u001b[49m\n\u001b[0;32m     71\u001b[0m \u001b[38;5;28mprint\u001b[39m(np\u001b[38;5;241m.\u001b[39marray(save)\u001b[38;5;241m.\u001b[39mshape)\n\u001b[0;32m     72\u001b[0m np\u001b[38;5;241m.\u001b[39msave(\u001b[38;5;124m'\u001b[39m\u001b[38;5;124mall.npy\u001b[39m\u001b[38;5;124m'\u001b[39m, np\u001b[38;5;241m.\u001b[39marray(save))\n",
      "Cell \u001b[1;32mIn[5], line 61\u001b[0m, in \u001b[0;36mcalc_entropy\u001b[1;34m(word)\u001b[0m\n\u001b[0;32m     60\u001b[0m \u001b[38;5;28;01mdef\u001b[39;00m \u001b[38;5;21mcalc_entropy\u001b[39m(word):\n\u001b[1;32m---> 61\u001b[0m     counts \u001b[38;5;241m=\u001b[39m \u001b[43mquery_res_all\u001b[49m\u001b[43m(\u001b[49m\u001b[43mword\u001b[49m\u001b[43m,\u001b[49m\u001b[43m \u001b[49m\u001b[43mwords\u001b[49m\u001b[43m)\u001b[49m\n\u001b[0;32m     62\u001b[0m     probs \u001b[38;5;241m=\u001b[39m counts\u001b[38;5;241m/\u001b[39mcounts\u001b[38;5;241m.\u001b[39msum()\n\u001b[0;32m     63\u001b[0m     probs_ \u001b[38;5;241m=\u001b[39m probs\u001b[38;5;241m.\u001b[39mcopy()\n",
      "Cell \u001b[1;32mIn[5], line 15\u001b[0m, in \u001b[0;36mquery_res_all\u001b[1;34m(ans, words)\u001b[0m\n\u001b[0;32m     10\u001b[0m matches \u001b[38;5;241m=\u001b[39m (words[:, :, \u001b[38;5;28;01mNone\u001b[39;00m] \u001b[38;5;241m==\u001b[39m ans[\u001b[38;5;28;01mNone\u001b[39;00m, \u001b[38;5;28;01mNone\u001b[39;00m, :]) \u001b[38;5;66;03m# (N, 5, 5)\u001b[39;00m\n\u001b[0;32m     11\u001b[0m \u001b[38;5;124;03m'''\u001b[39;00m\n\u001b[0;32m     12\u001b[0m \u001b[38;5;124;03mmatches[x][i][j]\u001b[39;00m\n\u001b[0;32m     13\u001b[0m \u001b[38;5;124;03mx번째 단어의 i번째 문자와 답의 j번째 문자가 같은지 여부\u001b[39;00m\n\u001b[0;32m     14\u001b[0m \u001b[38;5;124;03m'''\u001b[39;00m\n\u001b[1;32m---> 15\u001b[0m t \u001b[38;5;241m=\u001b[39m \u001b[43m(\u001b[49m\u001b[43mmatches\u001b[49m\u001b[43m \u001b[49m\u001b[38;5;241;43m&\u001b[39;49m\u001b[43m \u001b[49m\u001b[43mnot_greens\u001b[49m\u001b[43m[\u001b[49m\u001b[43m:\u001b[49m\u001b[43m,\u001b[49m\u001b[43m \u001b[49m\u001b[38;5;28;43;01mNone\u001b[39;49;00m\u001b[43m,\u001b[49m\u001b[43m \u001b[49m\u001b[43m:\u001b[49m\u001b[43m]\u001b[49m\u001b[43m)\u001b[49m\u001b[38;5;241;43m.\u001b[39;49m\u001b[43msum\u001b[49m\u001b[43m(\u001b[49m\u001b[43maxis\u001b[49m\u001b[38;5;241;43m=\u001b[39;49m\u001b[38;5;241;43m2\u001b[39;49m\u001b[43m)\u001b[49m \u001b[38;5;66;03m# (N, 5)\u001b[39;00m\n\u001b[0;32m     16\u001b[0m \u001b[38;5;124;03m'''\u001b[39;00m\n\u001b[0;32m     17\u001b[0m \u001b[38;5;124;03mdef get_t(word: str, ans: str, i: int) -> int:\u001b[39;00m\n\u001b[0;32m     18\u001b[0m \u001b[38;5;124;03m    cnt: int = 0\u001b[39;00m\n\u001b[1;32m   (...)\u001b[0m\n\u001b[0;32m     22\u001b[0m \u001b[38;5;124;03m    return cnt\u001b[39;00m\n\u001b[0;32m     23\u001b[0m \u001b[38;5;124;03m'''\u001b[39;00m\n\u001b[0;32m     25\u001b[0m matches \u001b[38;5;241m=\u001b[39m (words[:, :, \u001b[38;5;28;01mNone\u001b[39;00m] \u001b[38;5;241m==\u001b[39m words[:, \u001b[38;5;28;01mNone\u001b[39;00m, :]) \u001b[38;5;66;03m# (N, 5, 5)\u001b[39;00m\n",
      "File \u001b[1;32mc:\\Users\\geon4\\AppData\\Local\\Programs\\Python\\Python310\\lib\\site-packages\\numpy\\core\\_methods.py:47\u001b[0m, in \u001b[0;36m_sum\u001b[1;34m(a, axis, dtype, out, keepdims, initial, where)\u001b[0m\n\u001b[0;32m     43\u001b[0m \u001b[38;5;28;01mdef\u001b[39;00m \u001b[38;5;21m_amin\u001b[39m(a, axis\u001b[38;5;241m=\u001b[39m\u001b[38;5;28;01mNone\u001b[39;00m, out\u001b[38;5;241m=\u001b[39m\u001b[38;5;28;01mNone\u001b[39;00m, keepdims\u001b[38;5;241m=\u001b[39m\u001b[38;5;28;01mFalse\u001b[39;00m,\n\u001b[0;32m     44\u001b[0m           initial\u001b[38;5;241m=\u001b[39m_NoValue, where\u001b[38;5;241m=\u001b[39m\u001b[38;5;28;01mTrue\u001b[39;00m):\n\u001b[0;32m     45\u001b[0m     \u001b[38;5;28;01mreturn\u001b[39;00m umr_minimum(a, axis, \u001b[38;5;28;01mNone\u001b[39;00m, out, keepdims, initial, where)\n\u001b[1;32m---> 47\u001b[0m \u001b[38;5;28;01mdef\u001b[39;00m \u001b[38;5;21m_sum\u001b[39m(a, axis\u001b[38;5;241m=\u001b[39m\u001b[38;5;28;01mNone\u001b[39;00m, dtype\u001b[38;5;241m=\u001b[39m\u001b[38;5;28;01mNone\u001b[39;00m, out\u001b[38;5;241m=\u001b[39m\u001b[38;5;28;01mNone\u001b[39;00m, keepdims\u001b[38;5;241m=\u001b[39m\u001b[38;5;28;01mFalse\u001b[39;00m,\n\u001b[0;32m     48\u001b[0m          initial\u001b[38;5;241m=\u001b[39m_NoValue, where\u001b[38;5;241m=\u001b[39m\u001b[38;5;28;01mTrue\u001b[39;00m):\n\u001b[0;32m     49\u001b[0m     \u001b[38;5;28;01mreturn\u001b[39;00m umr_sum(a, axis, dtype, out, keepdims, initial, where)\n\u001b[0;32m     51\u001b[0m \u001b[38;5;28;01mdef\u001b[39;00m \u001b[38;5;21m_prod\u001b[39m(a, axis\u001b[38;5;241m=\u001b[39m\u001b[38;5;28;01mNone\u001b[39;00m, dtype\u001b[38;5;241m=\u001b[39m\u001b[38;5;28;01mNone\u001b[39;00m, out\u001b[38;5;241m=\u001b[39m\u001b[38;5;28;01mNone\u001b[39;00m, keepdims\u001b[38;5;241m=\u001b[39m\u001b[38;5;28;01mFalse\u001b[39;00m,\n\u001b[0;32m     52\u001b[0m           initial\u001b[38;5;241m=\u001b[39m_NoValue, where\u001b[38;5;241m=\u001b[39m\u001b[38;5;28;01mTrue\u001b[39;00m):\n",
      "\u001b[1;31mKeyboardInterrupt\u001b[0m: "
     ]
    }
   ],
   "source": [
    "import numpy as np\n",
    "import tqdm\n",
    "\n",
    "save = []\n",
    "def query_res_all(ans: np.ndarray, words: np.ndarray) -> np.ndarray:\n",
    "    N: int = words.shape[0]\n",
    "\n",
    "    not_greens = (ans != words) # (N, 5)\n",
    "\n",
    "    matches = (words[:, :, None] == ans[None, None, :]) # (N, 5, 5)\n",
    "    '''\n",
    "    matches[x][i][j]\n",
    "    x번째 단어의 i번째 문자와 답의 j번째 문자가 같은지 여부\n",
    "    '''\n",
    "    t = (matches & not_greens[:, None, :]).sum(axis=2) # (N, 5)\n",
    "    '''\n",
    "    def get_t(word: str, ans: str, i: int) -> int:\n",
    "        cnt: int = 0\n",
    "        for j in range(5):\n",
    "            if ans[j] == word[i] and ans[j] != word[j]:\n",
    "                cnt += 1\n",
    "        return cnt\n",
    "    '''\n",
    "\n",
    "    matches = (words[:, :, None] == words[:, None, :]) # (N, 5, 5)\n",
    "    '''\n",
    "    matches[x][i][j]\n",
    "    x번째 단어의 i번째 문자와 x번째 단어의 j번째 문자가 같은지 여부\n",
    "    '''\n",
    "    s = np.cumsum(matches & not_greens[:, None, :], axis=2)[np.arange(N)[:, None], np.arange(5), np.arange(5)] # (N, 5)\n",
    "    '''\n",
    "    def get_s(word: str, ans: str, i: int) -> int:\n",
    "        cnt: int = 0\n",
    "        for j in range(i+1):\n",
    "            if word[j] == word[i] and ans[j] != word[j]:\n",
    "                cnt += 1\n",
    "        return cnt\n",
    "    '''\n",
    "    \n",
    "    res = np.full_like(words, fill_value=2, dtype=int) # (N, 5)\n",
    "    res[not_greens] = (t >= s)[not_greens].astype(int)\n",
    "\n",
    "    # test\n",
    "    '''\n",
    "    for i in range(words.shape[0]):\n",
    "        if query_res(words[i], ans) != list(res[i]):\n",
    "            print(\"ans:\", ans, \"query:\", words[i], query_res(words[i], ans), list(res[i]))\n",
    "            break\n",
    "    '''\n",
    "\n",
    "    res = (res * np.array([1, 3, 9, 27, 81])).sum(axis=1) # (N,)\n",
    "    save.append(res)\n",
    "\n",
    "    counts = np.zeros(273)\n",
    "    counts[res] += 1\n",
    "    return counts\n",
    "    \n",
    "words = np.array(list(map(list, open('code\\words.txt').read().strip().split('\\n')))) # (N, 5)\n",
    "\n",
    "def calc_entropy(word):\n",
    "    counts = query_res_all(word, words)\n",
    "    probs = counts/counts.sum()\n",
    "    probs_ = probs.copy()\n",
    "    probs_[probs == 0] = 1\n",
    "    return -np.sum(probs * np.log2(probs_))\n",
    "\n",
    "# ent = {word:calc_entropy(word) for word in words}\n",
    "for word in tqdm.tqdm(words):\n",
    "    calc_entropy(word)\n",
    "\n",
    "print(np.array(save).shape)\n",
    "np.save('all.npy', np.array(save))"
   ]
  },
  {
   "cell_type": "markdown",
   "id": "74e55955",
   "metadata": {},
   "source": [
    "`all.npy`에 저장하고 불러와서 엔트로피를 구하자"
   ]
  },
  {
   "cell_type": "code",
   "execution_count": null,
   "id": "8d0026b7",
   "metadata": {},
   "outputs": [
    {
     "name": "stdout",
     "output_type": "stream",
     "text": [
      "1.0869624614715576\n",
      "1.7829666137695312\n",
      "7.1992292404174805\n"
     ]
    }
   ],
   "source": [
    "import numpy as np\n",
    "from time import time\n",
    "\n",
    "start_time = time()\n",
    "\n",
    "words = open('code\\words.txt').read().strip().split('\\n') # (N, 5)\n",
    "res = np.load('all.npy')\n",
    "print(time() - start_time)\n",
    "\n",
    "candidates = words\n",
    "word_to_index = {word: i for i, word in enumerate(words)}\n",
    "idx = np.array([word_to_index[w] for w in candidates])  # (C,)\n",
    "responses = res[np.ix_(idx, idx)]  # shape: (C, C)\n",
    "print(time() - start_time)\n",
    "\n",
    "entropy = np.zeros(len(candidates))\n",
    "for j in range(len(candidates)):\n",
    "    r = responses[:, j]\n",
    "    _, counts = np.unique(r, return_counts=True)\n",
    "    probs = counts / counts.sum()\n",
    "    entropy[j] = -np.sum(probs * np.log2(probs))\n",
    "\n",
    "print(time() - start_time)"
   ]
  },
  {
   "cell_type": "code",
   "execution_count": 21,
   "id": "a1c78a66",
   "metadata": {},
   "outputs": [
    {
     "name": "stdout",
     "output_type": "stream",
     "text": [
      "[0. 0. 0. 2. 0.]\n"
     ]
    }
   ],
   "source": [
    "def query_res(word, ans):            \n",
    "    feedback = np.zeros(5)\n",
    "    for i in range(5):\n",
    "        if word[i] == ans[i]:\n",
    "            feedback[i] = 2\n",
    "\n",
    "    remaining = {}\n",
    "    for i, ch in enumerate(ans):\n",
    "        if feedback[i] != 2:\n",
    "            remaining[ch] = remaining.get(ch, 0) + 1\n",
    "\n",
    "    for i in range(5):\n",
    "        if feedback[i] != 2 and remaining.get(word[i], 0) > 0:\n",
    "            feedback[i] = 1\n",
    "            remaining[word[i]] -= 1\n",
    "\n",
    "    return feedback\n",
    "\n",
    "print(query_res(word=np.array(list(\"apian\")), ans=np.array(list(\"fugal\"))))"
   ]
  },
  {
   "cell_type": "code",
   "execution_count": 11,
   "id": "96711176",
   "metadata": {},
   "outputs": [
    {
     "name": "stdout",
     "output_type": "stream",
     "text": [
      "54\n"
     ]
    }
   ],
   "source": [
    "words = open('code/words.txt').read().strip().split('\\n') # (N, 5)\n",
    "word_to_index = {word: i for i, word in enumerate(words)}\n",
    "all_results = np.load('code/all.npy') # (N, N)\n",
    "\n",
    "print(all_results[word_to_index[\"fugal\"]][word_to_index[\"apian\"]])"
   ]
  },
  {
   "cell_type": "markdown",
   "id": "dd4e971b",
   "metadata": {},
   "source": [
    "# use 4-dim array\n",
    "메모리 이슈로 망함"
   ]
  },
  {
   "cell_type": "code",
   "execution_count": 41,
   "id": "44286812",
   "metadata": {},
   "outputs": [
    {
     "name": "stdout",
     "output_type": "stream",
     "text": [
      "2.009331226348877\n",
      "2.2751193046569824\n",
      "4.165659189224243\n",
      "8.021244764328003\n",
      "8.960752010345459\n"
     ]
    },
    {
     "data": {
      "text/plain": [
       "'\\nfor i in range(N):\\n    for j in range(N):\\n        if query_res(words[j], words[i]) != list(res[j][i]):\\n            print(\"ans:\", words[i], \"query:\", words[j], query_res(words[j], words[i]), list(res[j][i]))\\n            break\\n'"
      ]
     },
     "execution_count": 41,
     "metadata": {},
     "output_type": "execute_result"
    }
   ],
   "source": [
    "import numpy as np\n",
    "from time import time\n",
    "\n",
    "words = np.array(list(map(list, open('code\\words.txt').read().strip().split('\\n')[:4000]))) # (N, 5)\n",
    "N = words.shape[0]\n",
    "\n",
    "start_time = time()\n",
    "\n",
    "def calc_entropy(word):\n",
    "    counts = query_res_all(word, words)\n",
    "    probs = counts/counts.sum()\n",
    "    probs_ = probs.copy()\n",
    "    probs_[probs == 0] = 1\n",
    "    return -np.sum(probs * np.log2(probs_))\n",
    "\n",
    "'''\n",
    "matches[x][y][i][j]\n",
    "x번째 단어의 i번째 문자와 y번째 단어의 j번째 문자가 같은지 여부\n",
    "'''\n",
    "matches = (words[:, None, :, None] == words[None, :, None, :]) # (N, N, 5, 5) \n",
    "print(time() - start_time)\n",
    "\n",
    "not_greens = ~matches[:, :, np.arange(5), np.arange(5)] # (N, N, 5)\n",
    "print(time() - start_time)\n",
    "\n",
    "t = (matches & not_greens[:, :, None, :]).sum(axis=3) # (N, N, 5)\n",
    "print(time() - start_time)\n",
    "\n",
    "s = np.cumsum((matches[np.arange(N), np.arange(N), :, :][:, None, :, :] & not_greens[:, :, None, :]), axis=3)[:, :, np.arange(5), np.arange(5)] # (N, N, 5)\n",
    "print(time() - start_time)\n",
    "\n",
    "res = np.full_like(not_greens, fill_value=2, dtype=int) # (N, N, 5)\n",
    "res[not_greens] = (t >= s)[not_greens].astype(int)\n",
    "print(time() - start_time)\n",
    "\n",
    "\n",
    "# res = (res * np.array([1, 3, 9, 27, 81])).sum(axis=1) # (N,)\n",
    "\n",
    "# counts = np.zeros(273)\n",
    "# counts[res] += 1\n",
    "\n",
    "# check\n",
    "'''\n",
    "for i in range(N):\n",
    "    for j in range(N):\n",
    "        if query_res(words[j], words[i]) != list(res[j][i]):\n",
    "            print(\"ans:\", words[i], \"query:\", words[j], query_res(words[j], words[i]), list(res[j][i]))\n",
    "            break\n",
    "'''\n",
    "\n"
   ]
  },
  {
   "cell_type": "code",
   "execution_count": null,
   "id": "354aa04f",
   "metadata": {},
   "outputs": [],
   "source": [
    "# simple version\n",
    "import numpy as np\n",
    "\n",
    "words = np.array(list(map(list, open('code\\words.txt').read().strip().split('\\n')[:4000]))) # (N, 5)\n",
    "N = words.shape[0]\n",
    "\n"
   ]
  },
  {
   "cell_type": "markdown",
   "id": "bd0c749e",
   "metadata": {},
   "source": [
    "# Use Query_res2"
   ]
  },
  {
   "cell_type": "code",
   "execution_count": 21,
   "id": "f1a0db6f",
   "metadata": {},
   "outputs": [],
   "source": [
    "def query_res2(word, ans):\n",
    "    dict = {}\n",
    "    for c in ans:\n",
    "        if c in dict:\n",
    "            dict[c] += 1\n",
    "        else:\n",
    "            dict[c] = 1\n",
    "\n",
    "    res = []\n",
    "    for cw, ca in zip(word, ans):\n",
    "        if cw == ca:\n",
    "            res.append(2)\n",
    "            dict[cw] -= 1\n",
    "        elif (cw not in dict) or dict[cw] == 0:\n",
    "            res.append(0)\n",
    "        else:\n",
    "            res.append(1)\n",
    "            dict[cw]-=1\n",
    "    return res"
   ]
  },
  {
   "cell_type": "code",
   "execution_count": 22,
   "id": "179cb6ff",
   "metadata": {},
   "outputs": [
    {
     "name": "stdout",
     "output_type": "stream",
     "text": [
      "[2, 1, 0, 0, 2]\n",
      "[2, 1, 0, 0, 2]\n"
     ]
    }
   ],
   "source": [
    "print(query_res('aalid', 'abacd'))\n",
    "print(query_res2('aalid', 'abacd'))"
   ]
  },
  {
   "cell_type": "code",
   "execution_count": 24,
   "id": "f6b1c37e",
   "metadata": {},
   "outputs": [
    {
     "name": "stdout",
     "output_type": "stream",
     "text": [
      "calculating entropy using query_res2: 84.05509614944458, dares\n",
      "calculating entropy using query_res: 359.8509097099304, dares\n"
     ]
    }
   ],
   "source": [
    "import time\n",
    "\n",
    "word_list = open('./code/words.txt').read().strip().split('\\n')[:4000]\n",
    "\n",
    "start_time = time.time()\n",
    "def calc_entropy2(word):\n",
    "    li = [tuple(query_res2(word=word,ans=j)) for j in word_list]\n",
    "    _, counts = np.unique(li, return_counts=True, axis=0)\n",
    "    probs = counts/counts.sum()\n",
    "    return -np.sum(probs * np.log2(probs))\n",
    "\n",
    "ent = {word:calc_entropy2(word) for word in word_list}\n",
    "guess = max(ent, key=ent.get)\n",
    "\n",
    "print(f'calculating entropy using query_res2: {time.time() - start_time}, {guess}')\n",
    "\n",
    "\n",
    "\n",
    "start_time = time.time()\n",
    "def calc_entropy(word):\n",
    "    li = [tuple(query_res(word=word,ans=j)) for j in word_list]\n",
    "    _, counts = np.unique(li, return_counts=True, axis=0)\n",
    "    probs = counts/counts.sum()\n",
    "    return -np.sum(probs * np.log2(probs))\n",
    "\n",
    "\n",
    "ent = {word:calc_entropy(word) for word in word_list}\n",
    "guess = max(ent, key=ent.get)\n",
    "\n",
    "print(f'calculating entropy using query_res: {time.time() - start_time}, {guess}')\n",
    "\n"
   ]
  }
 ],
 "metadata": {
  "kernelspec": {
   "display_name": "Python 3",
   "language": "python",
   "name": "python3"
  },
  "language_info": {
   "codemirror_mode": {
    "name": "ipython",
    "version": 3
   },
   "file_extension": ".py",
   "mimetype": "text/x-python",
   "name": "python",
   "nbconvert_exporter": "python",
   "pygments_lexer": "ipython3",
   "version": "3.10.7"
  }
 },
 "nbformat": 4,
 "nbformat_minor": 5
}
